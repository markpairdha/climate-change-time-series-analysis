{
  "nbformat": 4,
  "nbformat_minor": 0,
  "metadata": {
    "colab": {
      "name": "climate_change_prediction_time_series.ipynb",
      "provenance": [],
      "collapsed_sections": [],
      "mount_file_id": "1aRRWROREauztXT-mNu9C06P1qtbMRugl",
      "authorship_tag": "ABX9TyN/7cVFa0S4hWENzASyCRo2",
      "include_colab_link": true
    },
    "kernelspec": {
      "name": "python3",
      "display_name": "Python 3"
    },
    "language_info": {
      "name": "python"
    }
  },
  "cells": [
    {
      "cell_type": "markdown",
      "metadata": {
        "id": "view-in-github",
        "colab_type": "text"
      },
      "source": [
        "<a href=\"https://colab.research.google.com/github/markpairdha/climate-change-time-series-analysis/blob/main/climate_change_prediction_time_series.ipynb\" target=\"_parent\"><img src=\"https://colab.research.google.com/assets/colab-badge.svg\" alt=\"Open In Colab\"/></a>"
      ]
    },
    {
      "cell_type": "markdown",
      "metadata": {
        "id": "JexvnuXP-hbi"
      },
      "source": [
        "# **Climate Change prediction using time series analysis of data**\n",
        "\n",
        "*Dataset downloaded from*\n",
        "[https://github.com/gindeleo/climate/blob/master/GlobalLandTemperaturesByState.csv](https://github.com/gindeleo/climate/blob/master/GlobalLandTemperaturesByState.csv)\n",
        "\n",
        "Done by [https://github.com/markpairdha](https://github.com/markpairdha) as a part of assignment of edureka data science time series foundation program,June 2021."
      ]
    },
    {
      "cell_type": "code",
      "metadata": {
        "id": "izMBkBZJyVGz"
      },
      "source": [
        "import pandas as pd\n",
        "import numpy as np\n",
        "import matplotlib.pyplot as plt\n",
        "%matplotlib inline\n",
        "import seaborn as sns\n",
        "import warnings\n",
        "warnings.filterwarnings('ignore')\n",
        "from datetime import datetime,timedelta\n",
        "from statsmodels.tsa.seasonal import seasonal_decompose"
      ],
      "execution_count": null,
      "outputs": []
    },
    {
      "cell_type": "code",
      "metadata": {
        "colab": {
          "base_uri": "https://localhost:8080/",
          "height": 203
        },
        "id": "MIr5oKgQy9VH",
        "outputId": "effbdf38-4207-44c0-d8de-5582471d6b8f"
      },
      "source": [
        "df = pd.read_csv('/content/drive/MyDrive/Colab Notebooks/climate change time series/GlobalLandTemperaturesByState.csv')\n",
        "df.head()"
      ],
      "execution_count": null,
      "outputs": [
        {
          "output_type": "execute_result",
          "data": {
            "text/html": [
              "<div>\n",
              "<style scoped>\n",
              "    .dataframe tbody tr th:only-of-type {\n",
              "        vertical-align: middle;\n",
              "    }\n",
              "\n",
              "    .dataframe tbody tr th {\n",
              "        vertical-align: top;\n",
              "    }\n",
              "\n",
              "    .dataframe thead th {\n",
              "        text-align: right;\n",
              "    }\n",
              "</style>\n",
              "<table border=\"1\" class=\"dataframe\">\n",
              "  <thead>\n",
              "    <tr style=\"text-align: right;\">\n",
              "      <th></th>\n",
              "      <th>dt</th>\n",
              "      <th>AverageTemperature</th>\n",
              "      <th>AverageTemperatureUncertainty</th>\n",
              "      <th>State</th>\n",
              "      <th>Country</th>\n",
              "    </tr>\n",
              "  </thead>\n",
              "  <tbody>\n",
              "    <tr>\n",
              "      <th>0</th>\n",
              "      <td>1855-05-01</td>\n",
              "      <td>25.544</td>\n",
              "      <td>1.171</td>\n",
              "      <td>Acre</td>\n",
              "      <td>Brazil</td>\n",
              "    </tr>\n",
              "    <tr>\n",
              "      <th>1</th>\n",
              "      <td>1855-06-01</td>\n",
              "      <td>24.228</td>\n",
              "      <td>1.103</td>\n",
              "      <td>Acre</td>\n",
              "      <td>Brazil</td>\n",
              "    </tr>\n",
              "    <tr>\n",
              "      <th>2</th>\n",
              "      <td>1855-07-01</td>\n",
              "      <td>24.371</td>\n",
              "      <td>1.044</td>\n",
              "      <td>Acre</td>\n",
              "      <td>Brazil</td>\n",
              "    </tr>\n",
              "    <tr>\n",
              "      <th>3</th>\n",
              "      <td>1855-08-01</td>\n",
              "      <td>25.427</td>\n",
              "      <td>1.073</td>\n",
              "      <td>Acre</td>\n",
              "      <td>Brazil</td>\n",
              "    </tr>\n",
              "    <tr>\n",
              "      <th>4</th>\n",
              "      <td>1855-09-01</td>\n",
              "      <td>25.675</td>\n",
              "      <td>1.014</td>\n",
              "      <td>Acre</td>\n",
              "      <td>Brazil</td>\n",
              "    </tr>\n",
              "  </tbody>\n",
              "</table>\n",
              "</div>"
            ],
            "text/plain": [
              "           dt  AverageTemperature  AverageTemperatureUncertainty State Country\n",
              "0  1855-05-01              25.544                          1.171  Acre  Brazil\n",
              "1  1855-06-01              24.228                          1.103  Acre  Brazil\n",
              "2  1855-07-01              24.371                          1.044  Acre  Brazil\n",
              "3  1855-08-01              25.427                          1.073  Acre  Brazil\n",
              "4  1855-09-01              25.675                          1.014  Acre  Brazil"
            ]
          },
          "metadata": {
            "tags": []
          },
          "execution_count": 3
        }
      ]
    },
    {
      "cell_type": "markdown",
      "metadata": {
        "id": "1MPK5QHrBKYJ"
      },
      "source": [
        "# **Data Cleaning**"
      ]
    },
    {
      "cell_type": "code",
      "metadata": {
        "colab": {
          "base_uri": "https://localhost:8080/"
        },
        "id": "wj6IoE9A7HE4",
        "outputId": "7a38de4b-96aa-4759-ac74-9bf5da0b7838"
      },
      "source": [
        "df.dtypes"
      ],
      "execution_count": null,
      "outputs": [
        {
          "output_type": "execute_result",
          "data": {
            "text/plain": [
              "dt                                object\n",
              "AverageTemperature               float64\n",
              "AverageTemperatureUncertainty    float64\n",
              "State                             object\n",
              "Country                           object\n",
              "dtype: object"
            ]
          },
          "metadata": {
            "tags": []
          },
          "execution_count": 4
        }
      ]
    },
    {
      "cell_type": "code",
      "metadata": {
        "colab": {
          "base_uri": "https://localhost:8080/"
        },
        "id": "b3jFNAxh7MaR",
        "outputId": "295761f8-e096-4501-989b-62c4b19edd38"
      },
      "source": [
        "df.shape"
      ],
      "execution_count": null,
      "outputs": [
        {
          "output_type": "execute_result",
          "data": {
            "text/plain": [
              "(645675, 5)"
            ]
          },
          "metadata": {
            "tags": []
          },
          "execution_count": 5
        }
      ]
    },
    {
      "cell_type": "code",
      "metadata": {
        "colab": {
          "base_uri": "https://localhost:8080/"
        },
        "id": "wUuCLlHc7N64",
        "outputId": "67e7be0a-c529-4552-8fa8-549f1836ac1b"
      },
      "source": [
        "df.isnull().sum()"
      ],
      "execution_count": null,
      "outputs": [
        {
          "output_type": "execute_result",
          "data": {
            "text/plain": [
              "dt                                   0\n",
              "AverageTemperature               25648\n",
              "AverageTemperatureUncertainty    25648\n",
              "State                                0\n",
              "Country                              0\n",
              "dtype: int64"
            ]
          },
          "metadata": {
            "tags": []
          },
          "execution_count": 6
        }
      ]
    },
    {
      "cell_type": "code",
      "metadata": {
        "id": "wjYV4Tr57Q0_"
      },
      "source": [
        "df = df.dropna(how='any',axis=0)"
      ],
      "execution_count": null,
      "outputs": []
    },
    {
      "cell_type": "code",
      "metadata": {
        "colab": {
          "base_uri": "https://localhost:8080/"
        },
        "id": "JnqDRTM57iYi",
        "outputId": "40285868-a703-4775-f035-e883dbfce7b6"
      },
      "source": [
        "df.shape"
      ],
      "execution_count": null,
      "outputs": [
        {
          "output_type": "execute_result",
          "data": {
            "text/plain": [
              "(620027, 5)"
            ]
          },
          "metadata": {
            "tags": []
          },
          "execution_count": 8
        }
      ]
    },
    {
      "cell_type": "code",
      "metadata": {
        "colab": {
          "base_uri": "https://localhost:8080/"
        },
        "id": "0ItvP_eE7jBV",
        "outputId": "92451aba-320e-4d5a-d3ca-5e1fd9cfdefe"
      },
      "source": [
        "df.columns"
      ],
      "execution_count": null,
      "outputs": [
        {
          "output_type": "execute_result",
          "data": {
            "text/plain": [
              "Index(['dt', 'AverageTemperature', 'AverageTemperatureUncertainty', 'State',\n",
              "       'Country'],\n",
              "      dtype='object')"
            ]
          },
          "metadata": {
            "tags": []
          },
          "execution_count": 9
        }
      ]
    },
    {
      "cell_type": "code",
      "metadata": {
        "colab": {
          "base_uri": "https://localhost:8080/",
          "height": 203
        },
        "id": "ZR9yYNqh7tmd",
        "outputId": "4ccb5cd2-5aa8-410c-ba2d-94006dd4d73e"
      },
      "source": [
        "df.rename(columns={'dt':'Date', 'AverageTemperature':'Avg_temp', 'AverageTemperatureUncertainty':'confidence_interval_temp'},inplace=True)\n",
        "df.head()"
      ],
      "execution_count": null,
      "outputs": [
        {
          "output_type": "execute_result",
          "data": {
            "text/html": [
              "<div>\n",
              "<style scoped>\n",
              "    .dataframe tbody tr th:only-of-type {\n",
              "        vertical-align: middle;\n",
              "    }\n",
              "\n",
              "    .dataframe tbody tr th {\n",
              "        vertical-align: top;\n",
              "    }\n",
              "\n",
              "    .dataframe thead th {\n",
              "        text-align: right;\n",
              "    }\n",
              "</style>\n",
              "<table border=\"1\" class=\"dataframe\">\n",
              "  <thead>\n",
              "    <tr style=\"text-align: right;\">\n",
              "      <th></th>\n",
              "      <th>Date</th>\n",
              "      <th>Avg_temp</th>\n",
              "      <th>confidence_interval_temp</th>\n",
              "      <th>State</th>\n",
              "      <th>Country</th>\n",
              "    </tr>\n",
              "  </thead>\n",
              "  <tbody>\n",
              "    <tr>\n",
              "      <th>0</th>\n",
              "      <td>1855-05-01</td>\n",
              "      <td>25.544</td>\n",
              "      <td>1.171</td>\n",
              "      <td>Acre</td>\n",
              "      <td>Brazil</td>\n",
              "    </tr>\n",
              "    <tr>\n",
              "      <th>1</th>\n",
              "      <td>1855-06-01</td>\n",
              "      <td>24.228</td>\n",
              "      <td>1.103</td>\n",
              "      <td>Acre</td>\n",
              "      <td>Brazil</td>\n",
              "    </tr>\n",
              "    <tr>\n",
              "      <th>2</th>\n",
              "      <td>1855-07-01</td>\n",
              "      <td>24.371</td>\n",
              "      <td>1.044</td>\n",
              "      <td>Acre</td>\n",
              "      <td>Brazil</td>\n",
              "    </tr>\n",
              "    <tr>\n",
              "      <th>3</th>\n",
              "      <td>1855-08-01</td>\n",
              "      <td>25.427</td>\n",
              "      <td>1.073</td>\n",
              "      <td>Acre</td>\n",
              "      <td>Brazil</td>\n",
              "    </tr>\n",
              "    <tr>\n",
              "      <th>4</th>\n",
              "      <td>1855-09-01</td>\n",
              "      <td>25.675</td>\n",
              "      <td>1.014</td>\n",
              "      <td>Acre</td>\n",
              "      <td>Brazil</td>\n",
              "    </tr>\n",
              "  </tbody>\n",
              "</table>\n",
              "</div>"
            ],
            "text/plain": [
              "         Date  Avg_temp  confidence_interval_temp State Country\n",
              "0  1855-05-01    25.544                     1.171  Acre  Brazil\n",
              "1  1855-06-01    24.228                     1.103  Acre  Brazil\n",
              "2  1855-07-01    24.371                     1.044  Acre  Brazil\n",
              "3  1855-08-01    25.427                     1.073  Acre  Brazil\n",
              "4  1855-09-01    25.675                     1.014  Acre  Brazil"
            ]
          },
          "metadata": {
            "tags": []
          },
          "execution_count": 10
        }
      ]
    },
    {
      "cell_type": "code",
      "metadata": {
        "colab": {
          "base_uri": "https://localhost:8080/"
        },
        "id": "fQAVGrgU8QCv",
        "outputId": "6a2cb866-92ed-4f0c-a1a3-29210e7a32d7"
      },
      "source": [
        "df['Date'] = pd.to_datetime(df['Date'])\n",
        "df.set_index('Date',inplace=True)\n",
        "df.index"
      ],
      "execution_count": null,
      "outputs": [
        {
          "output_type": "execute_result",
          "data": {
            "text/plain": [
              "DatetimeIndex(['1855-05-01', '1855-06-01', '1855-07-01', '1855-08-01',\n",
              "               '1855-09-01', '1855-10-01', '1855-11-01', '1855-12-01',\n",
              "               '1856-01-01', '1856-02-01',\n",
              "               ...\n",
              "               '2012-11-01', '2012-12-01', '2013-01-01', '2013-02-01',\n",
              "               '2013-03-01', '2013-04-01', '2013-05-01', '2013-06-01',\n",
              "               '2013-07-01', '2013-08-01'],\n",
              "              dtype='datetime64[ns]', name='Date', length=620027, freq=None)"
            ]
          },
          "metadata": {
            "tags": []
          },
          "execution_count": 11
        }
      ]
    },
    {
      "cell_type": "code",
      "metadata": {
        "colab": {
          "base_uri": "https://localhost:8080/",
          "height": 295
        },
        "id": "bsEVRAIA80Qh",
        "outputId": "0da0902c-173f-43bb-aa41-a332186e1683"
      },
      "source": [
        "df.describe()"
      ],
      "execution_count": null,
      "outputs": [
        {
          "output_type": "execute_result",
          "data": {
            "text/html": [
              "<div>\n",
              "<style scoped>\n",
              "    .dataframe tbody tr th:only-of-type {\n",
              "        vertical-align: middle;\n",
              "    }\n",
              "\n",
              "    .dataframe tbody tr th {\n",
              "        vertical-align: top;\n",
              "    }\n",
              "\n",
              "    .dataframe thead th {\n",
              "        text-align: right;\n",
              "    }\n",
              "</style>\n",
              "<table border=\"1\" class=\"dataframe\">\n",
              "  <thead>\n",
              "    <tr style=\"text-align: right;\">\n",
              "      <th></th>\n",
              "      <th>Avg_temp</th>\n",
              "      <th>confidence_interval_temp</th>\n",
              "    </tr>\n",
              "  </thead>\n",
              "  <tbody>\n",
              "    <tr>\n",
              "      <th>count</th>\n",
              "      <td>620027.000000</td>\n",
              "      <td>620027.000000</td>\n",
              "    </tr>\n",
              "    <tr>\n",
              "      <th>mean</th>\n",
              "      <td>8.993111</td>\n",
              "      <td>1.287647</td>\n",
              "    </tr>\n",
              "    <tr>\n",
              "      <th>std</th>\n",
              "      <td>13.772150</td>\n",
              "      <td>1.360392</td>\n",
              "    </tr>\n",
              "    <tr>\n",
              "      <th>min</th>\n",
              "      <td>-45.389000</td>\n",
              "      <td>0.036000</td>\n",
              "    </tr>\n",
              "    <tr>\n",
              "      <th>25%</th>\n",
              "      <td>-0.693000</td>\n",
              "      <td>0.316000</td>\n",
              "    </tr>\n",
              "    <tr>\n",
              "      <th>50%</th>\n",
              "      <td>11.199000</td>\n",
              "      <td>0.656000</td>\n",
              "    </tr>\n",
              "    <tr>\n",
              "      <th>75%</th>\n",
              "      <td>19.899000</td>\n",
              "      <td>1.850000</td>\n",
              "    </tr>\n",
              "    <tr>\n",
              "      <th>max</th>\n",
              "      <td>36.339000</td>\n",
              "      <td>12.646000</td>\n",
              "    </tr>\n",
              "  </tbody>\n",
              "</table>\n",
              "</div>"
            ],
            "text/plain": [
              "            Avg_temp  confidence_interval_temp\n",
              "count  620027.000000             620027.000000\n",
              "mean        8.993111                  1.287647\n",
              "std        13.772150                  1.360392\n",
              "min       -45.389000                  0.036000\n",
              "25%        -0.693000                  0.316000\n",
              "50%        11.199000                  0.656000\n",
              "75%        19.899000                  1.850000\n",
              "max        36.339000                 12.646000"
            ]
          },
          "metadata": {
            "tags": []
          },
          "execution_count": 12
        }
      ]
    },
    {
      "cell_type": "code",
      "metadata": {
        "colab": {
          "base_uri": "https://localhost:8080/",
          "height": 234
        },
        "id": "2JK1uP4n85L-",
        "outputId": "07a2df0c-2074-4956-ddd2-15206bbfbd82"
      },
      "source": [
        "df['year'] = df.index.year\n",
        "df.head()"
      ],
      "execution_count": null,
      "outputs": [
        {
          "output_type": "execute_result",
          "data": {
            "text/html": [
              "<div>\n",
              "<style scoped>\n",
              "    .dataframe tbody tr th:only-of-type {\n",
              "        vertical-align: middle;\n",
              "    }\n",
              "\n",
              "    .dataframe tbody tr th {\n",
              "        vertical-align: top;\n",
              "    }\n",
              "\n",
              "    .dataframe thead th {\n",
              "        text-align: right;\n",
              "    }\n",
              "</style>\n",
              "<table border=\"1\" class=\"dataframe\">\n",
              "  <thead>\n",
              "    <tr style=\"text-align: right;\">\n",
              "      <th></th>\n",
              "      <th>Avg_temp</th>\n",
              "      <th>confidence_interval_temp</th>\n",
              "      <th>State</th>\n",
              "      <th>Country</th>\n",
              "      <th>year</th>\n",
              "    </tr>\n",
              "    <tr>\n",
              "      <th>Date</th>\n",
              "      <th></th>\n",
              "      <th></th>\n",
              "      <th></th>\n",
              "      <th></th>\n",
              "      <th></th>\n",
              "    </tr>\n",
              "  </thead>\n",
              "  <tbody>\n",
              "    <tr>\n",
              "      <th>1855-05-01</th>\n",
              "      <td>25.544</td>\n",
              "      <td>1.171</td>\n",
              "      <td>Acre</td>\n",
              "      <td>Brazil</td>\n",
              "      <td>1855</td>\n",
              "    </tr>\n",
              "    <tr>\n",
              "      <th>1855-06-01</th>\n",
              "      <td>24.228</td>\n",
              "      <td>1.103</td>\n",
              "      <td>Acre</td>\n",
              "      <td>Brazil</td>\n",
              "      <td>1855</td>\n",
              "    </tr>\n",
              "    <tr>\n",
              "      <th>1855-07-01</th>\n",
              "      <td>24.371</td>\n",
              "      <td>1.044</td>\n",
              "      <td>Acre</td>\n",
              "      <td>Brazil</td>\n",
              "      <td>1855</td>\n",
              "    </tr>\n",
              "    <tr>\n",
              "      <th>1855-08-01</th>\n",
              "      <td>25.427</td>\n",
              "      <td>1.073</td>\n",
              "      <td>Acre</td>\n",
              "      <td>Brazil</td>\n",
              "      <td>1855</td>\n",
              "    </tr>\n",
              "    <tr>\n",
              "      <th>1855-09-01</th>\n",
              "      <td>25.675</td>\n",
              "      <td>1.014</td>\n",
              "      <td>Acre</td>\n",
              "      <td>Brazil</td>\n",
              "      <td>1855</td>\n",
              "    </tr>\n",
              "  </tbody>\n",
              "</table>\n",
              "</div>"
            ],
            "text/plain": [
              "            Avg_temp  confidence_interval_temp State Country  year\n",
              "Date                                                              \n",
              "1855-05-01    25.544                     1.171  Acre  Brazil  1855\n",
              "1855-06-01    24.228                     1.103  Acre  Brazil  1855\n",
              "1855-07-01    24.371                     1.044  Acre  Brazil  1855\n",
              "1855-08-01    25.427                     1.073  Acre  Brazil  1855\n",
              "1855-09-01    25.675                     1.014  Acre  Brazil  1855"
            ]
          },
          "metadata": {
            "tags": []
          },
          "execution_count": 13
        }
      ]
    },
    {
      "cell_type": "code",
      "metadata": {
        "colab": {
          "base_uri": "https://localhost:8080/",
          "height": 295
        },
        "id": "HiTF5Aj59EQC",
        "outputId": "6befa591-df04-4542-9a03-80f680e9cbea"
      },
      "source": [
        "df.describe()"
      ],
      "execution_count": null,
      "outputs": [
        {
          "output_type": "execute_result",
          "data": {
            "text/html": [
              "<div>\n",
              "<style scoped>\n",
              "    .dataframe tbody tr th:only-of-type {\n",
              "        vertical-align: middle;\n",
              "    }\n",
              "\n",
              "    .dataframe tbody tr th {\n",
              "        vertical-align: top;\n",
              "    }\n",
              "\n",
              "    .dataframe thead th {\n",
              "        text-align: right;\n",
              "    }\n",
              "</style>\n",
              "<table border=\"1\" class=\"dataframe\">\n",
              "  <thead>\n",
              "    <tr style=\"text-align: right;\">\n",
              "      <th></th>\n",
              "      <th>Avg_temp</th>\n",
              "      <th>confidence_interval_temp</th>\n",
              "      <th>year</th>\n",
              "    </tr>\n",
              "  </thead>\n",
              "  <tbody>\n",
              "    <tr>\n",
              "      <th>count</th>\n",
              "      <td>620027.000000</td>\n",
              "      <td>620027.000000</td>\n",
              "      <td>620027.000000</td>\n",
              "    </tr>\n",
              "    <tr>\n",
              "      <th>mean</th>\n",
              "      <td>8.993111</td>\n",
              "      <td>1.287647</td>\n",
              "      <td>1902.331598</td>\n",
              "    </tr>\n",
              "    <tr>\n",
              "      <th>std</th>\n",
              "      <td>13.772150</td>\n",
              "      <td>1.360392</td>\n",
              "      <td>67.831393</td>\n",
              "    </tr>\n",
              "    <tr>\n",
              "      <th>min</th>\n",
              "      <td>-45.389000</td>\n",
              "      <td>0.036000</td>\n",
              "      <td>1743.000000</td>\n",
              "    </tr>\n",
              "    <tr>\n",
              "      <th>25%</th>\n",
              "      <td>-0.693000</td>\n",
              "      <td>0.316000</td>\n",
              "      <td>1851.000000</td>\n",
              "    </tr>\n",
              "    <tr>\n",
              "      <th>50%</th>\n",
              "      <td>11.199000</td>\n",
              "      <td>0.656000</td>\n",
              "      <td>1906.000000</td>\n",
              "    </tr>\n",
              "    <tr>\n",
              "      <th>75%</th>\n",
              "      <td>19.899000</td>\n",
              "      <td>1.850000</td>\n",
              "      <td>1960.000000</td>\n",
              "    </tr>\n",
              "    <tr>\n",
              "      <th>max</th>\n",
              "      <td>36.339000</td>\n",
              "      <td>12.646000</td>\n",
              "      <td>2013.000000</td>\n",
              "    </tr>\n",
              "  </tbody>\n",
              "</table>\n",
              "</div>"
            ],
            "text/plain": [
              "            Avg_temp  confidence_interval_temp           year\n",
              "count  620027.000000             620027.000000  620027.000000\n",
              "mean        8.993111                  1.287647    1902.331598\n",
              "std        13.772150                  1.360392      67.831393\n",
              "min       -45.389000                  0.036000    1743.000000\n",
              "25%        -0.693000                  0.316000    1851.000000\n",
              "50%        11.199000                  0.656000    1906.000000\n",
              "75%        19.899000                  1.850000    1960.000000\n",
              "max        36.339000                 12.646000    2013.000000"
            ]
          },
          "metadata": {
            "tags": []
          },
          "execution_count": 14
        }
      ]
    },
    {
      "cell_type": "code",
      "metadata": {
        "colab": {
          "base_uri": "https://localhost:8080/",
          "height": 234
        },
        "id": "biR4JiQ19LCj",
        "outputId": "b70579ed-0690-427d-de83-427d4f4ff2bd"
      },
      "source": [
        "latest_df = df.loc['1990':'2013']\n",
        "latest_df.head()\n",
        "#latest_df.value_counts()"
      ],
      "execution_count": null,
      "outputs": [
        {
          "output_type": "execute_result",
          "data": {
            "text/html": [
              "<div>\n",
              "<style scoped>\n",
              "    .dataframe tbody tr th:only-of-type {\n",
              "        vertical-align: middle;\n",
              "    }\n",
              "\n",
              "    .dataframe tbody tr th {\n",
              "        vertical-align: top;\n",
              "    }\n",
              "\n",
              "    .dataframe thead th {\n",
              "        text-align: right;\n",
              "    }\n",
              "</style>\n",
              "<table border=\"1\" class=\"dataframe\">\n",
              "  <thead>\n",
              "    <tr style=\"text-align: right;\">\n",
              "      <th></th>\n",
              "      <th>Avg_temp</th>\n",
              "      <th>confidence_interval_temp</th>\n",
              "      <th>State</th>\n",
              "      <th>Country</th>\n",
              "      <th>year</th>\n",
              "    </tr>\n",
              "    <tr>\n",
              "      <th>Date</th>\n",
              "      <th></th>\n",
              "      <th></th>\n",
              "      <th></th>\n",
              "      <th></th>\n",
              "      <th></th>\n",
              "    </tr>\n",
              "  </thead>\n",
              "  <tbody>\n",
              "    <tr>\n",
              "      <th>1990-01-01</th>\n",
              "      <td>25.881</td>\n",
              "      <td>0.297</td>\n",
              "      <td>Acre</td>\n",
              "      <td>Brazil</td>\n",
              "      <td>1990</td>\n",
              "    </tr>\n",
              "    <tr>\n",
              "      <th>1990-02-01</th>\n",
              "      <td>26.115</td>\n",
              "      <td>0.687</td>\n",
              "      <td>Acre</td>\n",
              "      <td>Brazil</td>\n",
              "      <td>1990</td>\n",
              "    </tr>\n",
              "    <tr>\n",
              "      <th>1990-03-01</th>\n",
              "      <td>26.323</td>\n",
              "      <td>0.339</td>\n",
              "      <td>Acre</td>\n",
              "      <td>Brazil</td>\n",
              "      <td>1990</td>\n",
              "    </tr>\n",
              "    <tr>\n",
              "      <th>1990-04-01</th>\n",
              "      <td>25.866</td>\n",
              "      <td>0.634</td>\n",
              "      <td>Acre</td>\n",
              "      <td>Brazil</td>\n",
              "      <td>1990</td>\n",
              "    </tr>\n",
              "    <tr>\n",
              "      <th>1990-05-01</th>\n",
              "      <td>25.832</td>\n",
              "      <td>0.687</td>\n",
              "      <td>Acre</td>\n",
              "      <td>Brazil</td>\n",
              "      <td>1990</td>\n",
              "    </tr>\n",
              "  </tbody>\n",
              "</table>\n",
              "</div>"
            ],
            "text/plain": [
              "            Avg_temp  confidence_interval_temp State Country  year\n",
              "Date                                                              \n",
              "1990-01-01    25.881                     0.297  Acre  Brazil  1990\n",
              "1990-02-01    26.115                     0.687  Acre  Brazil  1990\n",
              "1990-03-01    26.323                     0.339  Acre  Brazil  1990\n",
              "1990-04-01    25.866                     0.634  Acre  Brazil  1990\n",
              "1990-05-01    25.832                     0.687  Acre  Brazil  1990"
            ]
          },
          "metadata": {
            "tags": []
          },
          "execution_count": 15
        }
      ]
    },
    {
      "cell_type": "code",
      "metadata": {
        "colab": {
          "base_uri": "https://localhost:8080/",
          "height": 295
        },
        "id": "9zlfRhOd9S8h",
        "outputId": "5e21872d-8982-42c4-e8da-edac730d4643"
      },
      "source": [
        "latest_df[['Country','Avg_temp']].groupby(['Country']).mean().sort_values('Avg_temp')"
      ],
      "execution_count": null,
      "outputs": [
        {
          "output_type": "execute_result",
          "data": {
            "text/html": [
              "<div>\n",
              "<style scoped>\n",
              "    .dataframe tbody tr th:only-of-type {\n",
              "        vertical-align: middle;\n",
              "    }\n",
              "\n",
              "    .dataframe tbody tr th {\n",
              "        vertical-align: top;\n",
              "    }\n",
              "\n",
              "    .dataframe thead th {\n",
              "        text-align: right;\n",
              "    }\n",
              "</style>\n",
              "<table border=\"1\" class=\"dataframe\">\n",
              "  <thead>\n",
              "    <tr style=\"text-align: right;\">\n",
              "      <th></th>\n",
              "      <th>Avg_temp</th>\n",
              "    </tr>\n",
              "    <tr>\n",
              "      <th>Country</th>\n",
              "      <th></th>\n",
              "    </tr>\n",
              "  </thead>\n",
              "  <tbody>\n",
              "    <tr>\n",
              "      <th>Canada</th>\n",
              "      <td>-0.504399</td>\n",
              "    </tr>\n",
              "    <tr>\n",
              "      <th>Russia</th>\n",
              "      <td>2.655988</td>\n",
              "    </tr>\n",
              "    <tr>\n",
              "      <th>United States</th>\n",
              "      <td>11.672875</td>\n",
              "    </tr>\n",
              "    <tr>\n",
              "      <th>China</th>\n",
              "      <td>12.322680</td>\n",
              "    </tr>\n",
              "    <tr>\n",
              "      <th>Australia</th>\n",
              "      <td>18.488940</td>\n",
              "    </tr>\n",
              "    <tr>\n",
              "      <th>India</th>\n",
              "      <td>22.934573</td>\n",
              "    </tr>\n",
              "    <tr>\n",
              "      <th>Brazil</th>\n",
              "      <td>24.649577</td>\n",
              "    </tr>\n",
              "  </tbody>\n",
              "</table>\n",
              "</div>"
            ],
            "text/plain": [
              "                Avg_temp\n",
              "Country                 \n",
              "Canada         -0.504399\n",
              "Russia          2.655988\n",
              "United States  11.672875\n",
              "China          12.322680\n",
              "Australia      18.488940\n",
              "India          22.934573\n",
              "Brazil         24.649577"
            ]
          },
          "metadata": {
            "tags": []
          },
          "execution_count": 16
        }
      ]
    },
    {
      "cell_type": "code",
      "metadata": {
        "colab": {
          "base_uri": "https://localhost:8080/",
          "height": 388
        },
        "id": "Dyh8h0E79v4W",
        "outputId": "22aa8625-51c0-429e-acce-19412f3b6ddb"
      },
      "source": [
        "plt.figure(figsize=(15,6))\n",
        "sns.lineplot(x='year',y='Avg_temp',data=latest_df)\n",
        "plt.show()"
      ],
      "execution_count": null,
      "outputs": [
        {
          "output_type": "display_data",
          "data": {
            "image/png": "[encoded data removed]",
            "text/plain": [
              "<Figure size 1080x432 with 1 Axes>"
            ]
          },
          "metadata": {
            "tags": [],
            "needs_background": "light"
          }
        }
      ]
    },
    {
      "cell_type": "code",
      "metadata": {
        "id": "5Wul2KPJ_o3m"
      },
      "source": [
        "resample_df = latest_df[['Avg_temp']].resample('A').mean()"
      ],
      "execution_count": null,
      "outputs": []
    },
    {
      "cell_type": "code",
      "metadata": {
        "colab": {
          "base_uri": "https://localhost:8080/",
          "height": 234
        },
        "id": "5vnDg-XB_4sq",
        "outputId": "d23b23db-2431-4740-8f0e-0ed73f4afab4"
      },
      "source": [
        "resample_df.head()"
      ],
      "execution_count": null,
      "outputs": [
        {
          "output_type": "execute_result",
          "data": {
            "text/html": [
              "<div>\n",
              "<style scoped>\n",
              "    .dataframe tbody tr th:only-of-type {\n",
              "        vertical-align: middle;\n",
              "    }\n",
              "\n",
              "    .dataframe tbody tr th {\n",
              "        vertical-align: top;\n",
              "    }\n",
              "\n",
              "    .dataframe thead th {\n",
              "        text-align: right;\n",
              "    }\n",
              "</style>\n",
              "<table border=\"1\" class=\"dataframe\">\n",
              "  <thead>\n",
              "    <tr style=\"text-align: right;\">\n",
              "      <th></th>\n",
              "      <th>Avg_temp</th>\n",
              "    </tr>\n",
              "    <tr>\n",
              "      <th>Date</th>\n",
              "      <th></th>\n",
              "    </tr>\n",
              "  </thead>\n",
              "  <tbody>\n",
              "    <tr>\n",
              "      <th>1990-12-31</th>\n",
              "      <td>10.579912</td>\n",
              "    </tr>\n",
              "    <tr>\n",
              "      <th>1991-12-31</th>\n",
              "      <td>10.394824</td>\n",
              "    </tr>\n",
              "    <tr>\n",
              "      <th>1992-12-31</th>\n",
              "      <td>9.940195</td>\n",
              "    </tr>\n",
              "    <tr>\n",
              "      <th>1993-12-31</th>\n",
              "      <td>9.760204</td>\n",
              "    </tr>\n",
              "    <tr>\n",
              "      <th>1994-12-31</th>\n",
              "      <td>10.067471</td>\n",
              "    </tr>\n",
              "  </tbody>\n",
              "</table>\n",
              "</div>"
            ],
            "text/plain": [
              "             Avg_temp\n",
              "Date                 \n",
              "1990-12-31  10.579912\n",
              "1991-12-31  10.394824\n",
              "1992-12-31   9.940195\n",
              "1993-12-31   9.760204\n",
              "1994-12-31  10.067471"
            ]
          },
          "metadata": {
            "tags": []
          },
          "execution_count": 25
        }
      ]
    },
    {
      "cell_type": "code",
      "metadata": {
        "colab": {
          "base_uri": "https://localhost:8080/",
          "height": 370
        },
        "id": "eFXGwizu_7tk",
        "outputId": "0d0c84c7-5767-4a2c-9675-8a34bb3b6bbf"
      },
      "source": [
        "resample_df.plot(title='Temperature changes from 1990-2013',figsize=(8,5))\n",
        "plt.ylabel('temp',fontsize=12)\n",
        "plt.xlabel('year',fontsize=12)\n",
        "#plt.show()\n",
        "plt.legend()"
      ],
      "execution_count": null,
      "outputs": [
        {
          "output_type": "execute_result",
          "data": {
            "text/plain": [
              "<matplotlib.legend.Legend at 0x7f6de20cd490>"
            ]
          },
          "metadata": {
            "tags": []
          },
          "execution_count": 21
        },
        {
          "output_type": "display_data",
          "data": {
            "image/png": "[encoded data removed]",
            "text/plain": [
              "<Figure size 576x360 with 1 Axes>"
            ]
          },
          "metadata": {
            "tags": [],
            "needs_background": "light"
          }
        }
      ]
    },
    {
      "cell_type": "code",
      "metadata": {
        "colab": {
          "base_uri": "https://localhost:8080/"
        },
        "id": "S6fYEPR6AO6A",
        "outputId": "119bd75c-ca98-4588-a6b0-35f4538a41b4"
      },
      "source": [
        "from statsmodels.tsa.stattools import adfuller\n",
        "print('dickey-fuller test rwsults')\n",
        "test_df = adfuller(resample_df.iloc[:,0].values,autolag='AIC')\n",
        "df_output = pd.Series(test_df[0:4],index=['test statistic','p-value','Lags used','number of observations used'])\n",
        "for key,value in test_df[4].items():\n",
        "  df_output['critical value is (%s)'%key]=value\n",
        "print(df_output)  "
      ],
      "execution_count": null,
      "outputs": [
        {
          "output_type": "stream",
          "text": [
            "adfuller test rwsults\n",
            "test statistic                 -0.925319\n",
            "p-value                         0.779520\n",
            "Lags used                       7.000000\n",
            "number of observations used    16.000000\n",
            "critical value is (1%)         -3.924019\n",
            "critical value is (5%)         -3.068498\n",
            "critical value is (10%)        -2.673893\n",
            "dtype: float64\n"
          ],
          "name": "stdout"
        }
      ]
    },
    {
      "cell_type": "code",
      "metadata": {
        "id": "m7esRvRrBZZd"
      },
      "source": [
        "  decomp = seasonal_decompose(resample_df,freq=3)\n",
        "\n",
        "  trend = decomp.trend\n",
        "  seasonal = decomp.seasonal\n",
        "  residual = decomp.resid"
      ],
      "execution_count": null,
      "outputs": []
    },
    {
      "cell_type": "code",
      "metadata": {
        "colab": {
          "base_uri": "https://localhost:8080/",
          "height": 456
        },
        "id": "g13wCli-Xf0X",
        "outputId": "9c0cada1-800c-4dcb-e79b-15f60c5a7eac"
      },
      "source": [
        "plt.subplot(411)\n",
        "plt.plot(resample_df)\n",
        "plt.xlabel('Original')\n",
        "plt.figure(figsize=(6,5))\n",
        "\n",
        "\n",
        "plt.subplot(412)\n",
        "plt.plot(trend)\n",
        "plt.xlabel('Trend')\n",
        "plt.figure(figsize=(6,5))\n",
        "\n",
        "plt.subplot(413)\n",
        "plt.plot(seasonal)\n",
        "plt.xlabel('Seasonal')\n",
        "plt.figure(figsize=(6,5))\n",
        "\n",
        "plt.subplot(414)\n",
        "plt.plot(residual)\n",
        "plt.xlabel('Residual')\n",
        "plt.figure(figsize=(6,5))"
      ],
      "execution_count": null,
      "outputs": [
        {
          "output_type": "execute_result",
          "data": {
            "text/plain": [
              "<Figure size 432x360 with 0 Axes>"
            ]
          },
          "metadata": {
            "tags": []
          },
          "execution_count": 26
        },
        {
          "output_type": "display_data",
          "data": {
            "image/png": "[encoded data removed]",
            "text/plain": [
              "<Figure size 432x288 with 1 Axes>"
            ]
          },
          "metadata": {
            "tags": [],
            "needs_background": "light"
          }
        },
        {
          "output_type": "display_data",
          "data": {
            "image/png": "[encoded data removed]",
            "text/plain": [
              "<Figure size 432x360 with 1 Axes>"
            ]
          },
          "metadata": {
            "tags": [],
            "needs_background": "light"
          }
        },
        {
          "output_type": "display_data",
          "data": {
            "image/png": "[encoded data removed]",
            "text/plain": [
              "<Figure size 432x360 with 1 Axes>"
            ]
          },
          "metadata": {
            "tags": [],
            "needs_background": "light"
          }
        },
        {
          "output_type": "display_data",
          "data": {
            "image/png": "[encoded data removed]",
            "text/plain": [
              "<Figure size 432x360 with 1 Axes>"
            ]
          },
          "metadata": {
            "tags": [],
            "needs_background": "light"
          }
        },
        {
          "output_type": "display_data",
          "data": {
            "text/plain": [
              "<Figure size 432x360 with 0 Axes>"
            ]
          },
          "metadata": {
            "tags": []
          }
        }
      ]
    },
    {
      "cell_type": "code",
      "metadata": {
        "colab": {
          "base_uri": "https://localhost:8080/",
          "height": 278
        },
        "id": "kIrW8Wz0bpPv",
        "outputId": "b327bb3c-2d51-459e-d08c-bba92d538886"
      },
      "source": [
        "rol_mean = resample_df.rolling(window=3,center=True).mean()\n",
        "ewm = resample_df.ewm(span=3).mean()\n",
        "rol_std = resample_df.rolling(window=3,center=True).std()\n",
        "fig,(ax1,ax2) = plt.subplots(1,2,figsize=(12,5))\n",
        "\n",
        "ax1.plot(resample_df,label='Original')\n",
        "ax1.plot(rol_mean,label='Rolling Mean')\n",
        "ax1.plot(ewm,label='Exponentially Weighted Mean')\n",
        "ax1.set_title('Temperature Changes from 1980-2013',fontsize=14)\n",
        "ax1.set_ylabel('Temperature',fontsize=12)\n",
        "ax1.set_xlabel('year',fontsize=12)\n",
        "ax1.legend()\n",
        "\n",
        "ax2.plot(rol_std,label='Rolling STD')\n",
        "ax2.set_title('Temperature Changes from 1980-2013',fontsize=14)\n",
        "ax2.set_ylabel('Temperature',fontsize=12)\n",
        "ax2.set_xlabel('year',fontsize=12)\n",
        "ax2.legend()\n",
        "\n",
        "plt.tight_layout()\n",
        "plt.show()"
      ],
      "execution_count": null,
      "outputs": [
        {
          "output_type": "display_data",
          "data": {
            "image/png": "[encoded data removed]",
            "text/plain": [
              "<Figure size 864x360 with 2 Axes>"
            ]
          },
          "metadata": {
            "tags": [],
            "needs_background": "light"
          }
        }
      ]
    },
    {
      "cell_type": "code",
      "metadata": {
        "colab": {
          "base_uri": "https://localhost:8080/"
        },
        "id": "KNa7WPGwdw8z",
        "outputId": "8a020401-57d9-4a99-c2a1-6527947534c4"
      },
      "source": [
        "rol_mean.dropna(inplace=True)\n",
        "ewm.dropna(inplace=True)\n",
        "\n",
        "print('dickey-fuller test rwsults for rolling mean')\n",
        "df_test = adfuller(rol_mean.iloc[:,0].values,autolag='AIC')\n",
        "df_output = pd.Series(test_df[0:4],index=['test statistic','p-value','Lags used','number of observations used'])\n",
        "for key,value in test_df[4].items():\n",
        "  df_output['critical value is (%s)'%key]=value\n",
        "print(df_output)  \n",
        "print(' ')\n",
        "print('dickey-fuller test rwsults for exponentially weighted mean')\n",
        "df_test = adfuller(ewm.iloc[:,0].values,autolag='AIC')\n",
        "df_output = pd.Series(test_df[0:4],index=['test statistic','p-value','Lags used','number of observations used'])\n",
        "for key,value in test_df[4].items():\n",
        "  df_output['critical value is (%s)'%key]=value\n",
        "print(df_output)  \n"
      ],
      "execution_count": null,
      "outputs": [
        {
          "output_type": "stream",
          "text": [
            "dickey-fuller test rwsults for rolling mean\n",
            "test statistic                 -0.925319\n",
            "p-value                         0.779520\n",
            "Lags used                       7.000000\n",
            "number of observations used    16.000000\n",
            "critical value is (1%)         -3.924019\n",
            "critical value is (5%)         -3.068498\n",
            "critical value is (10%)        -2.673893\n",
            "dtype: float64\n",
            " \n",
            "dickey-fuller test rwsults for exponentially weighted mean\n",
            "test statistic                 -0.925319\n",
            "p-value                         0.779520\n",
            "Lags used                       7.000000\n",
            "number of observations used    16.000000\n",
            "critical value is (1%)         -3.924019\n",
            "critical value is (5%)         -3.068498\n",
            "critical value is (10%)        -2.673893\n",
            "dtype: float64\n"
          ],
          "name": "stdout"
        }
      ]
    },
    {
      "cell_type": "code",
      "metadata": {
        "colab": {
          "base_uri": "https://localhost:8080/",
          "height": 234
        },
        "id": "okjicquwerMN",
        "outputId": "0da63463-e121-423d-cf80-931341a89b41"
      },
      "source": [
        "diff_rol_mean = resample_df-rol_mean\n",
        "diff_rol_mean.dropna(inplace=True)\n",
        "diff_rol_mean.head()"
      ],
      "execution_count": null,
      "outputs": [
        {
          "output_type": "execute_result",
          "data": {
            "text/html": [
              "<div>\n",
              "<style scoped>\n",
              "    .dataframe tbody tr th:only-of-type {\n",
              "        vertical-align: middle;\n",
              "    }\n",
              "\n",
              "    .dataframe tbody tr th {\n",
              "        vertical-align: top;\n",
              "    }\n",
              "\n",
              "    .dataframe thead th {\n",
              "        text-align: right;\n",
              "    }\n",
              "</style>\n",
              "<table border=\"1\" class=\"dataframe\">\n",
              "  <thead>\n",
              "    <tr style=\"text-align: right;\">\n",
              "      <th></th>\n",
              "      <th>Avg_temp</th>\n",
              "    </tr>\n",
              "    <tr>\n",
              "      <th>Date</th>\n",
              "      <th></th>\n",
              "    </tr>\n",
              "  </thead>\n",
              "  <tbody>\n",
              "    <tr>\n",
              "      <th>1991-12-31</th>\n",
              "      <td>0.089847</td>\n",
              "    </tr>\n",
              "    <tr>\n",
              "      <th>1992-12-31</th>\n",
              "      <td>-0.091546</td>\n",
              "    </tr>\n",
              "    <tr>\n",
              "      <th>1993-12-31</th>\n",
              "      <td>-0.162419</td>\n",
              "    </tr>\n",
              "    <tr>\n",
              "      <th>1994-12-31</th>\n",
              "      <td>-0.093977</td>\n",
              "    </tr>\n",
              "    <tr>\n",
              "      <th>1995-12-31</th>\n",
              "      <td>0.475714</td>\n",
              "    </tr>\n",
              "  </tbody>\n",
              "</table>\n",
              "</div>"
            ],
            "text/plain": [
              "            Avg_temp\n",
              "Date                \n",
              "1991-12-31  0.089847\n",
              "1992-12-31 -0.091546\n",
              "1993-12-31 -0.162419\n",
              "1994-12-31 -0.093977\n",
              "1995-12-31  0.475714"
            ]
          },
          "metadata": {
            "tags": []
          },
          "execution_count": 32
        }
      ]
    },
    {
      "cell_type": "code",
      "metadata": {
        "colab": {
          "base_uri": "https://localhost:8080/",
          "height": 234
        },
        "id": "TYnZifsPe2FJ",
        "outputId": "1dc0cfd1-906b-4ff3-b1c2-1dd5eabc7234"
      },
      "source": [
        "diff_ewm = resample_df-ewm\n",
        "diff_ewm.dropna(inplace=True)\n",
        "diff_ewm.head()"
      ],
      "execution_count": null,
      "outputs": [
        {
          "output_type": "execute_result",
          "data": {
            "text/html": [
              "<div>\n",
              "<style scoped>\n",
              "    .dataframe tbody tr th:only-of-type {\n",
              "        vertical-align: middle;\n",
              "    }\n",
              "\n",
              "    .dataframe tbody tr th {\n",
              "        vertical-align: top;\n",
              "    }\n",
              "\n",
              "    .dataframe thead th {\n",
              "        text-align: right;\n",
              "    }\n",
              "</style>\n",
              "<table border=\"1\" class=\"dataframe\">\n",
              "  <thead>\n",
              "    <tr style=\"text-align: right;\">\n",
              "      <th></th>\n",
              "      <th>Avg_temp</th>\n",
              "    </tr>\n",
              "    <tr>\n",
              "      <th>Date</th>\n",
              "      <th></th>\n",
              "    </tr>\n",
              "  </thead>\n",
              "  <tbody>\n",
              "    <tr>\n",
              "      <th>1990-12-31</th>\n",
              "      <td>0.000000</td>\n",
              "    </tr>\n",
              "    <tr>\n",
              "      <th>1991-12-31</th>\n",
              "      <td>-0.061696</td>\n",
              "    </tr>\n",
              "    <tr>\n",
              "      <th>1992-12-31</th>\n",
              "      <td>-0.221282</td>\n",
              "    </tr>\n",
              "    <tr>\n",
              "      <th>1993-12-31</th>\n",
              "      <td>-0.187261</td>\n",
              "    </tr>\n",
              "    <tr>\n",
              "      <th>1994-12-31</th>\n",
              "      <td>0.058067</td>\n",
              "    </tr>\n",
              "  </tbody>\n",
              "</table>\n",
              "</div>"
            ],
            "text/plain": [
              "            Avg_temp\n",
              "Date                \n",
              "1990-12-31  0.000000\n",
              "1991-12-31 -0.061696\n",
              "1992-12-31 -0.221282\n",
              "1993-12-31 -0.187261\n",
              "1994-12-31  0.058067"
            ]
          },
          "metadata": {
            "tags": []
          },
          "execution_count": 33
        }
      ]
    },
    {
      "cell_type": "code",
      "metadata": {
        "colab": {
          "base_uri": "https://localhost:8080/",
          "height": 278
        },
        "id": "h0AVMYpAfP10",
        "outputId": "0a07c470-8aeb-4c09-df9c-d91c25a9f270"
      },
      "source": [
        "df_rol_mean_diff = diff_rol_mean.rolling(window=3,center=True).mean()\n",
        "df_ewm_diff = diff_ewm.ewm(span=3).mean()\n",
        "fig,(ax1,ax2) = plt.subplots(1,2,figsize=(12,5))\n",
        "\n",
        "ax1.plot(diff_rol_mean,label='Original')\n",
        "ax1.plot(df_rol_mean_diff,label='Rolling Mean')\n",
        "ax1.set_title('Temperature Changes from 1980-2013',fontsize=14)\n",
        "ax1.set_ylabel('Temperature',fontsize=12)\n",
        "ax1.set_xlabel('year',fontsize=12)\n",
        "ax1.legend()\n",
        "\n",
        "ax2.plot(diff_ewm,label='Original')\n",
        "ax2.plot(df_ewm_diff,label='Exponentially weighted Mean')\n",
        "ax2.set_title('Temperature Changes from 1980-2013',fontsize=14)\n",
        "ax2.set_ylabel('Temperature',fontsize=12)\n",
        "ax2.set_xlabel('year',fontsize=12)\n",
        "ax2.legend()\n",
        "\n",
        "plt.tight_layout()"
      ],
      "execution_count": null,
      "outputs": [
        {
          "output_type": "display_data",
          "data": {
            "image/png": "[encoded data removed]",
            "text/plain": [
              "<Figure size 864x360 with 2 Axes>"
            ]
          },
          "metadata": {
            "tags": [],
            "needs_background": "light"
          }
        }
      ]
    },
    {
      "cell_type": "code",
      "metadata": {
        "colab": {
          "base_uri": "https://localhost:8080/"
        },
        "id": "onI61j0qgNdc",
        "outputId": "acb510f6-9497-4776-92fe-72a824bcc3f3"
      },
      "source": [
        "print('dickey-fuller test for the difference between original and  rolling mean')\n",
        "dftest = adfuller(diff_rol_mean.iloc[:,0].values,autolag='AIC')\n",
        "dfoutput = pd.Series(dftest[0:4],index=['test statistic','p-value','Lags used','number of observations used'])\n",
        "for key,value in dftest[4].items():\n",
        "  dfoutput['critical value is (%s)'%key]=value\n",
        "print(dfoutput)  \n",
        "print(' ')\n",
        "print('dickey-fuller test for the difference between original and  exponentially weighted mean')\n",
        "dftest = adfuller(diff_ewm.iloc[:,0].values,autolag='AIC')\n",
        "dfoutput = pd.Series(dftest[0:4],index=['test statistic','p-value','Lags used','number of observations used'])\n",
        "for key,value in dftest[4].items():\n",
        "  dfoutput['critical value is (%s)'%key]=value\n",
        "print(dfoutput)  "
      ],
      "execution_count": null,
      "outputs": [
        {
          "output_type": "stream",
          "text": [
            "dickey-fuller test for the difference between original and  rolling mean\n",
            "test statistic                  0.491513\n",
            "p-value                         0.984613\n",
            "Lags used                       9.000000\n",
            "number of observations used    12.000000\n",
            "critical value is (1%)         -4.137829\n",
            "critical value is (5%)         -3.154972\n",
            "critical value is (10%)        -2.714477\n",
            "dtype: float64\n",
            " \n",
            "dickey-fuller test for the difference between original and  exponentially weighted mean\n",
            "test statistic                 -2.741164\n",
            "p-value                         0.067182\n",
            "Lags used                       3.000000\n",
            "number of observations used    20.000000\n",
            "critical value is (1%)         -3.809209\n",
            "critical value is (5%)         -3.021645\n",
            "critical value is (10%)        -2.650713\n",
            "dtype: float64\n"
          ],
          "name": "stdout"
        }
      ]
    },
    {
      "cell_type": "code",
      "metadata": {
        "colab": {
          "base_uri": "https://localhost:8080/",
          "height": 336
        },
        "id": "Ogs1dlC0hJyg",
        "outputId": "fe3ef069-290d-44f8-a08d-1ac22b321e79"
      },
      "source": [
        "from statsmodels.graphics.tsaplots import plot_acf\n",
        "from statsmodels.graphics.tsaplots import plot_pacf\n",
        "from matplotlib import pyplot\n",
        "\n",
        "pyplot.figure(figsize=(10,5))\n",
        "pyplot.subplot(211)\n",
        "plot_acf(resample_df,ax=pyplot.gca())\n",
        "pyplot.subplot(212)\n",
        "plot_pacf(resample_df,ax=pyplot.gca())\n",
        "pyplot.show()"
      ],
      "execution_count": null,
      "outputs": [
        {
          "output_type": "display_data",
          "data": {
            "image/png": "[encoded data removed]",
            "text/plain": [
              "<Figure size 720x360 with 2 Axes>"
            ]
          },
          "metadata": {
            "tags": [],
            "needs_background": "light"
          }
        }
      ]
    },
    {
      "cell_type": "code",
      "metadata": {
        "id": "GcMqfmxRiAJL"
      },
      "source": [
        ""
      ],
      "execution_count": null,
      "outputs": []
    }
  ]
}